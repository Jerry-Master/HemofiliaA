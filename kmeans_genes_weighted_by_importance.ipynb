{
 "cells": [
  {
   "cell_type": "code",
   "execution_count": 1,
   "metadata": {},
   "outputs": [],
   "source": [
    "import numpy as np\n",
    "import pandas as pd\n",
    "import matplotlib.pyplot as plt\n",
    "# dimensionality reduction\n",
    "from sklearn.manifold import TSNE\n",
    "from sklearn.decomposition import PCA\n",
    "# kmeans\n",
    "from sklearn.cluster import KMeans"
   ]
  },
  {
   "cell_type": "code",
   "execution_count": null,
   "metadata": {},
   "outputs": [],
   "source": []
  },
  {
   "cell_type": "code",
   "execution_count": 2,
   "metadata": {},
   "outputs": [],
   "source": [
    "filename = \"../gen_values.csv\" # \"../out.csv\"\n",
    "\n",
    "df = pd.read_csv(filename, sep=\",\").drop(columns=[\"Unnamed: 0\"])\n",
    "# df = pd.read_csv(filename, sep=\",\").drop(columns=[\"id\"])"
   ]
  },
  {
   "cell_type": "code",
   "execution_count": 3,
   "metadata": {},
   "outputs": [],
   "source": [
    "# df.head()"
   ]
  },
  {
   "cell_type": "code",
   "execution_count": 4,
   "metadata": {},
   "outputs": [],
   "source": [
    "# KMeans"
   ]
  },
  {
   "cell_type": "code",
   "execution_count": 5,
   "metadata": {},
   "outputs": [],
   "source": [
    "kmeans = KMeans(n_clusters=3, init=\"random\")"
   ]
  },
  {
   "cell_type": "code",
   "execution_count": 6,
   "metadata": {},
   "outputs": [],
   "source": [
    "kmeans.fit(df.values)\n",
    "labels = kmeans.labels_\n",
    "centers = kmeans.cluster_centers_"
   ]
  },
  {
   "cell_type": "code",
   "execution_count": 7,
   "metadata": {},
   "outputs": [
    {
     "data": {
      "text/plain": [
       "array([0, 2, 2, 2, 2, 2, 1, 0, 2, 2, 0, 2, 2, 2, 0, 2, 0, 2, 2, 2, 1, 2, 2,\n",
       "       2, 1, 2, 1, 1, 2, 1, 0, 1, 2, 2, 2, 0, 1, 1, 0], dtype=int32)"
      ]
     },
     "execution_count": 7,
     "metadata": {},
     "output_type": "execute_result"
    }
   ],
   "source": [
    "labels"
   ]
  },
  {
   "cell_type": "code",
   "execution_count": 8,
   "metadata": {},
   "outputs": [],
   "source": [
    "# PCA "
   ]
  },
  {
   "cell_type": "code",
   "execution_count": 9,
   "metadata": {},
   "outputs": [],
   "source": [
    "pca    = PCA()\n",
    "data   = pca.fit_transform(df.values)\n",
    "p_comp = pca.explained_variance_ratio_"
   ]
  },
  {
   "cell_type": "code",
   "execution_count": 10,
   "metadata": {},
   "outputs": [],
   "source": [
    "centers_plot = pca.transform(centers)"
   ]
  },
  {
   "cell_type": "code",
   "execution_count": 11,
   "metadata": {},
   "outputs": [],
   "source": [
    "colors = {1: \"r\", 2: \"b\", 3: \"c\", 4: \"g\", 5: \"k\"}"
   ]
  },
  {
   "cell_type": "code",
   "execution_count": 19,
   "metadata": {},
   "outputs": [
    {
     "data": {
      "image/png": "[encoded data removed]",
      "text/plain": [
       "<matplotlib.figure.Figure at 0x7f8e49eaefd0>"
      ]
     },
     "metadata": {
      "needs_background": "light"
     },
     "output_type": "display_data"
    },
    {
     "name": "stdout",
     "output_type": "stream",
     "text": [
      "Cluster al que pertanyen els malaltys de variant G a la taula son: [2, 2, 2, 2]\n"
     ]
    }
   ],
   "source": [
    "plt.figure()\n",
    "\n",
    "for i, label in enumerate(labels): \n",
    "    if i in [1, 2, 12, 19]:\n",
    "        plt.plot(data[i, 0], data[i, 1], \"ko\")\n",
    "    else:\n",
    "        plt.plot(data[i, 0], data[i, 1], colors[label+1]+\".\")\n",
    "    \n",
    "plt.plot(centers_plot[:, 0], centers_plot[:, 1], \"mo\")\n",
    "plt.show()\n",
    "\n",
    "print \"Cluster al que pertanyen els malaltys de variant G a la taula son:\"\\\n",
    "      , [labels[i] for i in [1, 2, 12, 19]]"
   ]
  },
  {
   "cell_type": "code",
   "execution_count": 21,
   "metadata": {},
   "outputs": [
    {
     "name": "stdout",
     "output_type": "stream",
     "text": [
      "Patients in cluster 0: [0, 7, 10, 14, 16, 30, 35, 38]\n",
      "Patients in cluster 1: [6, 20, 24, 26, 27, 29, 31, 36, 37]\n",
      "Patients in cluster 2: [1, 2, 3, 4, 5, 8, 9, 11, 12, 13, 15, 17, 18, 19, 21, 22, 23, 25, 28, 32, 33, 34]\n"
     ]
    }
   ],
   "source": [
    "for l in set(labels):\n",
    "    patients_cluster = []\n",
    "    for i,label in enumerate(labels):\n",
    "        if l == label:\n",
    "            patients_cluster.append(i)\n",
    "            \n",
    "    print \"Patients in cluster {0}: {1}\".format(l, patients_cluster)"
   ]
  },
  {
   "cell_type": "code",
   "execution_count": null,
   "metadata": {},
   "outputs": [],
   "source": []
  },
  {
   "cell_type": "code",
   "execution_count": 20,
   "metadata": {},
   "outputs": [
    {
     "data": {
      "text/plain": [
       "[0.49744834085244305,\n",
       " 0.1361957842106955,\n",
       " 0.068445310445199456,\n",
       " 0.063269182596833576,\n",
       " 0.054468305170950762,\n",
       " 0.039044216750121874,\n",
       " 0.023427268923704281,\n",
       " 0.016884207721870086,\n",
       " 0.012820645641695586,\n",
       " 0.012522213909084763,\n",
       " 0.0080432435600344843,\n",
       " 0.007326801240244994,\n",
       " 0.0064964316325273278,\n",
       " 0.0062928667375376198,\n",
       " 0.0051773208794575944,\n",
       " 0.0045555470587411587,\n",
       " 0.0043407848209215802,\n",
       " 0.0032281006269704112,\n",
       " 0.0031038163317356924,\n",
       " 0.002811520588480023,\n",
       " 0.0023199485480537262,\n",
       " 0.0022951430643357684,\n",
       " 0.0021834859011712984,\n",
       " 0.001939154450910916,\n",
       " 0.0016885669626044305,\n",
       " 0.0016197469144951934,\n",
       " 0.0014627933724548257,\n",
       " 0.0013698526145075331,\n",
       " 0.0013116297275420918,\n",
       " 0.001152769037867098,\n",
       " 0.0010372174266027709,\n",
       " 0.00097322730685062728,\n",
       " 0.00093257157369341123,\n",
       " 0.00084864016766349312,\n",
       " 0.00080938359676589993,\n",
       " 0.00077077196169471525,\n",
       " 0.00070116315381726219,\n",
       " 0.00068202451971890847,\n",
       " 5.5818885376584176e-30]"
      ]
     },
     "execution_count": 20,
     "metadata": {},
     "output_type": "execute_result"
    }
   ],
   "source": [
    "list(pca.explained_variance_ratio_)"
   ]
  },
  {
   "cell_type": "code",
   "execution_count": null,
   "metadata": {},
   "outputs": [],
   "source": []
  }
 ],
 "metadata": {
  "kernelspec": {
   "display_name": "Python 3",
   "language": "python",
   "name": "python3"
  },
  "language_info": {
   "codemirror_mode": {
    "name": "ipython",
    "version": 2
   },
   "file_extension": ".py",
   "mimetype": "text/x-python",
   "name": "python",
   "nbconvert_exporter": "python",
   "pygments_lexer": "ipython2",
   "version": "2.7.15+"
  }
 },
 "nbformat": 4,
 "nbformat_minor": 2
}
