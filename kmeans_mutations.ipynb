{
 "cells": [
  {
   "cell_type": "code",
   "execution_count": 80,
   "metadata": {},
   "outputs": [],
   "source": [
    "import numpy as np\n",
    "import pandas as pd\n",
    "import matplotlib.pyplot as plt\n",
    "# dimensionality reduction\n",
    "from sklearn.manifold import TSNE\n",
    "from sklearn.decomposition import PCA\n",
    "# kmeans\n",
    "from sklearn import metrics\n",
    "from sklearn.cluster import KMeans\n",
    "from scipy.spatial.distance import cdist"
   ]
  },
  {
   "cell_type": "code",
   "execution_count": 4,
   "metadata": {},
   "outputs": [],
   "source": [
    "filename = \"../out.csv\"\n",
    "\n",
    "# df = pd.read_csv(filename, sep=\",\").drop(columns=[\"Unnamed: 0\"])\n",
    "df = pd.read_csv(filename, sep=\",\").drop(columns=[\"id\"])"
   ]
  },
  {
   "cell_type": "code",
   "execution_count": 5,
   "metadata": {},
   "outputs": [],
   "source": [
    "# df.head()"
   ]
  },
  {
   "cell_type": "code",
   "execution_count": 81,
   "metadata": {},
   "outputs": [
    {
     "name": "stdout",
     "output_type": "stream",
     "text": [
      "(1, 'done')\n",
      "(2, 'done')\n",
      "(3, 'done')\n",
      "(4, 'done')\n",
      "(5, 'done')\n",
      "(6, 'done')\n",
      "(7, 'done')\n",
      "(8, 'done')\n",
      "(9, 'done')\n"
     ]
    },
    {
     "data": {
      "image/png": "[encoded data removed]",
      "text/plain": [
       "<matplotlib.figure.Figure at 0x7f9bc0627d10>"
      ]
     },
     "metadata": {
      "needs_background": "light"
     },
     "output_type": "display_data"
    }
   ],
   "source": [
    "# SELECT K FOR KMEANS\n",
    "distortions = []\n",
    "K = range(1,10,1)\n",
    "for k in K:\n",
    "    kmeanModel = KMeans(n_clusters=k).fit(df.values[:-1])\n",
    "    kmeanModel.fit(df.values[:-1])\n",
    "    distortions.append(sum(np.min(cdist(df.values[:-1], kmeanModel.cluster_centers_, 'euclidean'), axis=1)) / df.values[:-1].shape[0])\n",
    "    print(k, \"done\")\n",
    "# Plot the elbow\n",
    "plt.plot(K, distortions, 'bx-')\n",
    "plt.xlabel('k')\n",
    "plt.ylabel('Distortion')\n",
    "plt.title('The Elbow Method showing the optimal k')\n",
    "plt.show()"
   ]
  },
  {
   "cell_type": "code",
   "execution_count": 6,
   "metadata": {},
   "outputs": [],
   "source": [
    "# KMeans"
   ]
  },
  {
   "cell_type": "code",
   "execution_count": 82,
   "metadata": {},
   "outputs": [],
   "source": [
    "kmeans = KMeans(n_clusters=3)"
   ]
  },
  {
   "cell_type": "code",
   "execution_count": 83,
   "metadata": {},
   "outputs": [],
   "source": [
    "kmeans.fit(df.values[:-1])\n",
    "labels = kmeans.labels_\n",
    "centers = kmeans.cluster_centers_"
   ]
  },
  {
   "cell_type": "code",
   "execution_count": 84,
   "metadata": {},
   "outputs": [
    {
     "data": {
      "text/plain": [
       "array([0, 1, 1, 1, 1, 1, 2, 0, 1, 1, 0, 1, 1, 1, 0, 1, 0, 1, 1, 1, 2, 1, 1,\n",
       "       2, 2, 1, 2, 2, 1, 2, 0, 2, 1, 1, 1, 0, 2, 1, 0], dtype=int32)"
      ]
     },
     "execution_count": 84,
     "metadata": {},
     "output_type": "execute_result"
    }
   ],
   "source": [
    "labels"
   ]
  },
  {
   "cell_type": "code",
   "execution_count": 85,
   "metadata": {},
   "outputs": [],
   "source": [
    "# PCA "
   ]
  },
  {
   "cell_type": "code",
   "execution_count": 86,
   "metadata": {},
   "outputs": [],
   "source": [
    "pca    = PCA()\n",
    "data   = pca.fit_transform(df.values)\n",
    "p_comp = pca.explained_variance_ratio_"
   ]
  },
  {
   "cell_type": "code",
   "execution_count": 87,
   "metadata": {},
   "outputs": [],
   "source": [
    "centers_plot = pca.transform(centers)"
   ]
  },
  {
   "cell_type": "code",
   "execution_count": 88,
   "metadata": {},
   "outputs": [],
   "source": [
    "colors = {1: \"r\", 2: \"b\", 3: \"c\", 4: \"g\", 5: \"k\"}"
   ]
  },
  {
   "cell_type": "code",
   "execution_count": 89,
   "metadata": {},
   "outputs": [
    {
     "data": {
      "image/png": "[encoded data removed]",
      "text/plain": [
       "<matplotlib.figure.Figure at 0x7f9bc10f4590>"
      ]
     },
     "metadata": {
      "needs_background": "light"
     },
     "output_type": "display_data"
    }
   ],
   "source": [
    "plt.figure()\n",
    "\n",
    "for i, label in enumerate(labels): \n",
    "    if i > 34:\n",
    "        plt.plot(data[i, 0], data[i, 1], colors[label+1]+\"o\")\n",
    "    else:\n",
    "        plt.plot(data[i, 0], data[i, 1], colors[label+1]+\".\")\n",
    "    \n",
    "plt.plot(centers_plot[:, 0], centers_plot[:, 1], \"mo\")\n",
    "plt.show()"
   ]
  },
  {
   "cell_type": "code",
   "execution_count": 22,
   "metadata": {},
   "outputs": [
    {
     "data": {
      "text/plain": [
       "[0.17531193588676106,\n",
       " 0.082019032676623471,\n",
       " 0.027622243802669224,\n",
       " 0.025395996593081258,\n",
       " 0.022826570179003528,\n",
       " 0.022632740666534108,\n",
       " 0.022180119642202737,\n",
       " 0.021897565878460413,\n",
       " 0.021655647485432715,\n",
       " 0.021558779340491305,\n",
       " 0.021323817408242001,\n",
       " 0.021181389726982493,\n",
       " 0.020953948529919615,\n",
       " 0.020948090850432786,\n",
       " 0.020773894787715196,\n",
       " 0.020509995679592649,\n",
       " 0.020453947894842148,\n",
       " 0.020142374628902261,\n",
       " 0.020090870692238513,\n",
       " 0.019919924702894984,\n",
       " 0.019460180674210292,\n",
       " 0.019386679729559125,\n",
       " 0.019340435367451468,\n",
       " 0.019212612867956155,\n",
       " 0.019169974396684251,\n",
       " 0.01908993793224396,\n",
       " 0.018807125447942961,\n",
       " 0.0187582326653799,\n",
       " 0.018678478946772901,\n",
       " 0.018500232232861069,\n",
       " 0.018424874191324239,\n",
       " 0.018236386132287896,\n",
       " 0.018110455806050363,\n",
       " 0.017941545505146338,\n",
       " 0.017753264443305765,\n",
       " 0.017711891284446019,\n",
       " 0.017564601683900151,\n",
       " 0.01727177757445416,\n",
       " 0.017182426065000568,\n",
       " 1.0452477900748941e-28]"
      ]
     },
     "execution_count": 22,
     "metadata": {},
     "output_type": "execute_result"
    }
   ],
   "source": [
    "list(pca.explained_variance_ratio_)"
   ]
  },
  {
   "cell_type": "code",
   "execution_count": null,
   "metadata": {},
   "outputs": [],
   "source": []
  }
 ],
 "metadata": {
  "kernelspec": {
   "display_name": "Python 3",
   "language": "python",
   "name": "python3"
  },
  "language_info": {
   "codemirror_mode": {
    "name": "ipython",
    "version": 3
   },
   "file_extension": ".py",
   "mimetype": "text/x-python",
   "name": "python",
   "nbconvert_exporter": "python",
   "pygments_lexer": "ipython3",
   "version": "3.7.5"
  }
 },
 "nbformat": 4,
 "nbformat_minor": 2
}
