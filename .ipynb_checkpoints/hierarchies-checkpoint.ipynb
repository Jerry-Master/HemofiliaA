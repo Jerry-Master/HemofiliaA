{
 "cells": [
  {
   "cell_type": "code",
   "execution_count": 31,
   "metadata": {},
   "outputs": [],
   "source": [
    "import numpy as np\n",
    "import pandas as pd\n",
    "import matplotlib.pyplot as plt\n",
    "# dimensionality reduction\n",
    "from sklearn.manifold import TSNE\n",
    "from sklearn.decomposition import PCA\n",
    "# hierarchies\n",
    "from scipy.cluster import hierarchy\n",
    "from scipy.cluster.hierarchy import dendrogram, linkage"
   ]
  },
  {
   "cell_type": "code",
   "execution_count": 32,
   "metadata": {},
   "outputs": [],
   "source": [
    "filename = \"../out.csv\"\n",
    "\n",
    "# df = pd.read_csv(filename, sep=\",\").drop(columns=[\"Unnamed: 0\"])\n",
    "df = pd.read_csv(filename, sep=\",\").drop(columns=[\"id\"])"
   ]
  },
  {
   "cell_type": "code",
   "execution_count": 33,
   "metadata": {},
   "outputs": [],
   "source": [
    "# df.head()"
   ]
  },
  {
   "cell_type": "code",
   "execution_count": 36,
   "metadata": {},
   "outputs": [],
   "source": [
    "hierarchy = linkage(df.values.astype(np.double))"
   ]
  },
  {
   "cell_type": "code",
   "execution_count": 37,
   "metadata": {},
   "outputs": [
    {
     "data": {
      "image/png": "[encoded data removed]",
      "text/plain": [
       "<matplotlib.figure.Figure at 0x7f41f40bb390>"
      ]
     },
     "metadata": {
      "needs_background": "light"
     },
     "output_type": "display_data"
    }
   ],
   "source": [
    "plt.title('Hierarchical Clustering Dendrogram')\n",
    "# plot the top three levels of the dendrogram\n",
    "dendrogram(hierarchy, truncate_mode='level', p=3)\n",
    "plt.xlabel(\"Number of points in node (or index of point if no parenthesis).\")\n",
    "plt.show()"
   ]
  },
  {
   "cell_type": "code",
   "execution_count": 22,
   "metadata": {},
   "outputs": [
    {
     "data": {
      "text/plain": [
       "[0.17531193588676106,\n",
       " 0.082019032676623471,\n",
       " 0.027622243802669224,\n",
       " 0.025395996593081258,\n",
       " 0.022826570179003528,\n",
       " 0.022632740666534108,\n",
       " 0.022180119642202737,\n",
       " 0.021897565878460413,\n",
       " 0.021655647485432715,\n",
       " 0.021558779340491305,\n",
       " 0.021323817408242001,\n",
       " 0.021181389726982493,\n",
       " 0.020953948529919615,\n",
       " 0.020948090850432786,\n",
       " 0.020773894787715196,\n",
       " 0.020509995679592649,\n",
       " 0.020453947894842148,\n",
       " 0.020142374628902261,\n",
       " 0.020090870692238513,\n",
       " 0.019919924702894984,\n",
       " 0.019460180674210292,\n",
       " 0.019386679729559125,\n",
       " 0.019340435367451468,\n",
       " 0.019212612867956155,\n",
       " 0.019169974396684251,\n",
       " 0.01908993793224396,\n",
       " 0.018807125447942961,\n",
       " 0.0187582326653799,\n",
       " 0.018678478946772901,\n",
       " 0.018500232232861069,\n",
       " 0.018424874191324239,\n",
       " 0.018236386132287896,\n",
       " 0.018110455806050363,\n",
       " 0.017941545505146338,\n",
       " 0.017753264443305765,\n",
       " 0.017711891284446019,\n",
       " 0.017564601683900151,\n",
       " 0.01727177757445416,\n",
       " 0.017182426065000568,\n",
       " 1.0452477900748941e-28]"
      ]
     },
     "execution_count": 22,
     "metadata": {},
     "output_type": "execute_result"
    }
   ],
   "source": [
    "list(pca.explained_variance_ratio_)"
   ]
  },
  {
   "cell_type": "code",
   "execution_count": null,
   "metadata": {},
   "outputs": [],
   "source": []
  }
 ],
 "metadata": {
  "kernelspec": {
   "display_name": "Python 3",
   "language": "python",
   "name": "python3"
  },
  "language_info": {
   "codemirror_mode": {
    "name": "ipython",
    "version": 3
   },
   "file_extension": ".py",
   "mimetype": "text/x-python",
   "name": "python",
   "nbconvert_exporter": "python",
   "pygments_lexer": "ipython3",
   "version": "3.7.5"
  }
 },
 "nbformat": 4,
 "nbformat_minor": 2
}
